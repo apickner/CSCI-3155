{
 "cells": [
  {
   "cell_type": "code",
   "execution_count": 1,
   "metadata": {},
   "outputs": [
    {
     "name": "stdout",
     "output_type": "stream",
     "text": [
      "Compiling /Users/AndrewMacbook/Downloads/recitation_week8/rec8stdlib.sc"
     ]
    },
    {
     "data": {
      "text/plain": [
       "\u001b[32mimport \u001b[39m\u001b[36m$file.$         \n",
       "\u001b[39m\n",
       "\u001b[32mimport \u001b[39m\u001b[36mrec8stdlib._\u001b[39m"
      ]
     },
     "execution_count": 1,
     "metadata": {},
     "output_type": "execute_result"
    }
   ],
   "source": [
    "import $file.rec8stdlib\n",
    "import rec8stdlib._"
   ]
  },
  {
   "cell_type": "markdown",
   "metadata": {},
   "source": [
    "# Recitation N\n",
    "\n",
    "In this recitation we will get some practice with the basic parser combinators.\n",
    "\n",
    "## The Parser Type\n",
    "\n",
    "We define parsers below with the following Grammar:\n",
    "\n",
    "$$\n",
    "\\large \\text{type }\\textbf{Parser}\\ s\\ d = (\\ (\\textbf{List}\\ s) \\rightarrow\\ \\textbf{List}\\ (d, (\\textbf{List}\\ s))\\ )\n",
    "$$\n",
    "\n",
    "We could also write the $\\textbf{List}$ type as square brackets. So we would write $\\textbf{List}\\ A $ as $[A]$ which may be easier to read:\n",
    "\n",
    "$$\n",
    "\\large \\text{type }\\textbf{Parser}\\ s\\ d =  (\\ [s] \\rightarrow\\ [(d, [s])]\\ )\n",
    "$$\n",
    "\n",
    "As a refresher, let's break down each part of this type.\n",
    "\n",
    "$$\n",
    "\\large{ \\text{type }\\textbf{Parser}\\ \\color{#1196cc}s\\ \\color{#cc8511}d =(\\ \\color{#27dc3a}{[s]\\rightarrow\\ [(d, [s])]}\\ )}\n",
    "$$\n",
    "\n",
    "* $\\color{#1196cc}s$ - The type of the symbols the parser is reading in. Usually this will be characters but could also be any other data type.\n",
    "* $\\color{#cc8511}d$ - The type of the data we are returning from the parse. This is the structure we are trying to build up. Later this will be Lettuce Expressions.\n",
    "* $\\color{#27dc3a}{[s]\\rightarrow\\ [(d, [s])]}$ - The parsing function. This is any function that takes a list of symbols(such as a string) and returns a list of success parses. A successful parse is any tuple of the parsed structure $d$ and the rest of the list that still needs to be parsed\n"
   ]
  },
  {
   "cell_type": "code",
   "execution_count": 3,
   "metadata": {},
   "outputs": [
    {
     "data": {
      "text/plain": [
       "defined \u001b[32mtype\u001b[39m \u001b[36mParser\u001b[39m"
      ]
     },
     "execution_count": 3,
     "metadata": {},
     "output_type": "execute_result"
    }
   ],
   "source": [
    "// Parser type\n",
    "type Parser[S, D] = List[S] => List[ (D, List[S]) ]"
   ]
  },
  {
   "cell_type": "markdown",
   "metadata": {},
   "source": [
    "## The Primitives\n",
    "\n",
    "We will define three primitive parsers that we will use to build up all of the other parsers we will need. These are:\n",
    "\n",
    "* `char` Takes a character as an argument and parses that character\n",
    "* `success` Takes any element of type $D$ and returns a parser of that type\n",
    "* `failure` Unsuccesful parses"
   ]
  },
  {
   "cell_type": "markdown",
   "metadata": {},
   "source": [
    "### Char\n",
    " \n",
    "The `char` primitive is a parser for the provided character `c`. This can be any character that is included in Scala's definition. We will use this as the primary building block for all of our parsers going forward."
   ]
  },
  {
   "cell_type": "code",
   "execution_count": 7,
   "metadata": {},
   "outputs": [
    {
     "data": {
      "text/plain": [
       "defined \u001b[32mfunction\u001b[39m \u001b[36mparse_a\u001b[39m\n",
       "\u001b[36mres6_1\u001b[39m: \u001b[32mList\u001b[39m[(\u001b[32mChar\u001b[39m, \u001b[32mList\u001b[39m[\u001b[32mChar\u001b[39m])] = \u001b[33mCons\u001b[39m(\n",
       "  (\u001b[32m'a'\u001b[39m, \u001b[33mCons\u001b[39m(\u001b[32m'b'\u001b[39m, \u001b[33mCons\u001b[39m(\u001b[32m'c'\u001b[39m, Empty))),\n",
       "  Empty\n",
       ")\n",
       "defined \u001b[32mfunction\u001b[39m \u001b[36mchar\u001b[39m\n",
       "\u001b[36mres6_3\u001b[39m: \u001b[32mList\u001b[39m[(\u001b[32mChar\u001b[39m, \u001b[32mList\u001b[39m[\u001b[32mChar\u001b[39m])] = \u001b[33mCons\u001b[39m(\n",
       "  (\u001b[32m'c'\u001b[39m, \u001b[33mCons\u001b[39m(\u001b[32m'a'\u001b[39m, \u001b[33mCons\u001b[39m(\u001b[32m'b'\u001b[39m, \u001b[33mCons\u001b[39m(\u001b[32m'c'\u001b[39m, Empty)))),\n",
       "  Empty\n",
       ")"
      ]
     },
     "execution_count": 7,
     "metadata": {},
     "output_type": "execute_result"
    }
   ],
   "source": [
    "// char\n",
    "def parse_a(input: List[Char]) = {\n",
    "    input match {\n",
    "        case Empty       => Empty\n",
    "        case Cons(c, cs) => char_eq(c, 'a') match {\n",
    "            case True  => singleton('a', cs) // singleton creates a list with one item\n",
    "        }\n",
    "    }\n",
    "}\n",
    "\n",
    "parse_a(string_to_list(\"abc\"))\n",
    "\n",
    "def char(my_char: Char) : Parser[Char, Char] = {\n",
    "    (input: List[Char]) => {\n",
    "        input match {\n",
    "            case Empty       => Empty\n",
    "            case Cons(c, cs) => char_eq(my_char, c) match {\n",
    "                case True  => singleton(my_char, cs)\n",
    "                case False => Empty\n",
    "            }\n",
    "        }\n",
    "    }\n",
    "}\n",
    "\n",
    "char('c')(string_to_list(\"cabc\"))"
   ]
  },
  {
   "cell_type": "markdown",
   "metadata": {},
   "source": [
    "### Success\n",
    "\n",
    "This is a fairly simples primitive that acts as a pass-through. It will just wrap up its argument into a successful parse. This will be useful when returning results inside of the `bind` combinator."
   ]
  },
  {
   "cell_type": "code",
   "execution_count": 16,
   "metadata": {},
   "outputs": [
    {
     "data": {
      "text/plain": [
       "defined \u001b[32mfunction\u001b[39m \u001b[36msuccess\u001b[39m"
      ]
     },
     "execution_count": 16,
     "metadata": {},
     "output_type": "execute_result"
    }
   ],
   "source": [
    "// success\n",
    "def success[S, D](x: D) : Parser[S, D] = {\n",
    "    (input: List[S]) => {\n",
    "        singleton( (x, input) )\n",
    "    }\n",
    "}"
   ]
  },
  {
   "cell_type": "markdown",
   "metadata": {},
   "source": [
    "### Failure\n",
    "\n",
    "This is the dual of `success` and is used any time we have an unsuccesful parse"
   ]
  },
  {
   "cell_type": "code",
   "execution_count": 15,
   "metadata": {},
   "outputs": [
    {
     "data": {
      "text/plain": [
       "defined \u001b[32mfunction\u001b[39m \u001b[36mfailure\u001b[39m"
      ]
     },
     "execution_count": 15,
     "metadata": {},
     "output_type": "execute_result"
    }
   ],
   "source": [
    "// failure\n",
    "def failure[S, D]() : Parser[S, D] = {\n",
    "    (input: List[S]) => Empty\n",
    "}"
   ]
  },
  {
   "cell_type": "markdown",
   "metadata": {},
   "source": [
    "## The Combinators\n",
    "\n",
    "We will use these primitives with _combinators_(A name that only a mathmetician could make up) to create our parsers. There are two basic combinators from which we will build all of the others:"
   ]
  },
  {
   "cell_type": "markdown",
   "metadata": {},
   "source": [
    "### Choice\n",
    "\n",
    "`Choice` represents a case where you have two parsers and want to combine them in an either/or way. If you have a parser that recognizes numbers and another that recognizes words you could combine them to recognize both numbers and words."
   ]
  },
  {
   "cell_type": "code",
   "execution_count": 10,
   "metadata": {
    "scrolled": true
   },
   "outputs": [
    {
     "data": {
      "text/plain": [
       "defined \u001b[32mfunction\u001b[39m \u001b[36mchoose\u001b[39m"
      ]
     },
     "execution_count": 10,
     "metadata": {},
     "output_type": "execute_result"
    }
   ],
   "source": [
    "// choose\n",
    "def choose[S, D](p1: Parser[S, D], p2: Parser[S, D]) : Parser[S, D] = {\n",
    "    (input: List[S]) => {\n",
    "        append(p1(input), p2(input))\n",
    "    }\n",
    "}"
   ]
  },
  {
   "cell_type": "markdown",
   "metadata": {},
   "source": [
    "# Examples\n",
    "\n",
    "Note: To convert a string to a list of characters call the `string_to_list` function\n",
    "\n",
    "### 1\n",
    "Write a parser that accepts either a string beginning with `'a'` or `'z'`"
   ]
  },
  {
   "cell_type": "code",
   "execution_count": 11,
   "metadata": {},
   "outputs": [
    {
     "data": {
      "text/plain": [
       "\u001b[36mp_a\u001b[39m: \u001b[32mList\u001b[39m[\u001b[32mChar\u001b[39m] => \u001b[32mList\u001b[39m[(\u001b[32mChar\u001b[39m, \u001b[32mList\u001b[39m[\u001b[32mChar\u001b[39m])] = ammonite.$sess.cmd6$Helper$$Lambda$3387/0x0000000800e53040@1c38e882\n",
       "\u001b[36mp_z\u001b[39m: \u001b[32mList\u001b[39m[\u001b[32mChar\u001b[39m] => \u001b[32mList\u001b[39m[(\u001b[32mChar\u001b[39m, \u001b[32mList\u001b[39m[\u001b[32mChar\u001b[39m])] = ammonite.$sess.cmd6$Helper$$Lambda$3387/0x0000000800e53040@4de3e202\n",
       "\u001b[36mp1\u001b[39m: \u001b[32mList\u001b[39m[\u001b[32mChar\u001b[39m] => \u001b[32mList\u001b[39m[(\u001b[32mChar\u001b[39m, \u001b[32mList\u001b[39m[\u001b[32mChar\u001b[39m])] = ammonite.$sess.cmd9$Helper$$Lambda$3413/0x0000000800e60040@29aa1934\n",
       "\u001b[36mex1\u001b[39m: \u001b[32mList\u001b[39m[\u001b[32mChar\u001b[39m] = \u001b[33mCons\u001b[39m(\u001b[32m'a'\u001b[39m, \u001b[33mCons\u001b[39m(\u001b[32m'b'\u001b[39m, \u001b[33mCons\u001b[39m(\u001b[32m'c'\u001b[39m, Empty)))\n",
       "\u001b[36mex2\u001b[39m: \u001b[32mList\u001b[39m[\u001b[32mChar\u001b[39m] = \u001b[33mCons\u001b[39m(\u001b[32m'z'\u001b[39m, \u001b[33mCons\u001b[39m(\u001b[32m'y'\u001b[39m, \u001b[33mCons\u001b[39m(\u001b[32m'x'\u001b[39m, Empty)))\n",
       "\u001b[36mex_bad\u001b[39m: \u001b[32mList\u001b[39m[\u001b[32mChar\u001b[39m] = \u001b[33mCons\u001b[39m(\u001b[32m'd'\u001b[39m, \u001b[33mCons\u001b[39m(\u001b[32m'o'\u001b[39m, \u001b[33mCons\u001b[39m(\u001b[32m'g'\u001b[39m, Empty)))"
      ]
     },
     "execution_count": 11,
     "metadata": {},
     "output_type": "execute_result"
    }
   ],
   "source": [
    "val p_a = char('a')\n",
    "val p_z = char('z')\n",
    "\n",
    "\n",
    "val p1 = choose(p_a, p_z)\n",
    "\n",
    "val ex1 = string_to_list(\"abc\")\n",
    "val ex2 = string_to_list(\"zyx\")\n",
    "val ex_bad = string_to_list(\"dog\")"
   ]
  },
  {
   "cell_type": "markdown",
   "metadata": {},
   "source": [
    "### 2\n",
    "Write a parser that accepts any digit (0-9)"
   ]
  },
  {
   "cell_type": "code",
   "execution_count": 12,
   "metadata": {},
   "outputs": [
    {
     "name": "stderr",
     "output_type": "stream",
     "text": [
      "cmd12.sc:18: type mismatch;\n",
      " found   : (ammonite.$sess.cmd9.wrapper.cmd2.Parser[Nothing,Nothing], ammonite.$sess.cmd9.wrapper.cmd2.Parser[Nothing,Nothing]) => ammonite.$sess.cmd9.wrapper.cmd2.Parser[Nothing,Nothing]\n",
      "    (which expands to)  (ammonite.$sess.cmd2.wrapper.rec8stdlib.List[Nothing] => ammonite.$sess.cmd2.wrapper.rec8stdlib.List[(Nothing, ammonite.$sess.cmd2.wrapper.rec8stdlib.List[Nothing])], ammonite.$sess.cmd2.wrapper.rec8stdlib.List[Nothing] => ammonite.$sess.cmd2.wrapper.rec8stdlib.List[(Nothing, ammonite.$sess.cmd2.wrapper.rec8stdlib.List[Nothing])]) => ammonite.$sess.cmd2.wrapper.rec8stdlib.List[Nothing] => ammonite.$sess.cmd2.wrapper.rec8stdlib.List[(Nothing, ammonite.$sess.cmd2.wrapper.rec8stdlib.List[Nothing])]\n",
      " required: (ammonite.$sess.cmd6.wrapper.cmd2.Parser[Char,Char], Object) => Object\n",
      "    (which expands to)  (ammonite.$sess.cmd2.wrapper.rec8stdlib.List[Char] => ammonite.$sess.cmd2.wrapper.rec8stdlib.List[(Char, ammonite.$sess.cmd2.wrapper.rec8stdlib.List[Char])], Object) => Object\n",
      "val pdigits = fold(choose, Empty, num_parsers)\n",
      "                   ^Compilation Failed"
     ]
    },
    {
     "ename": "",
     "evalue": "",
     "output_type": "error",
     "traceback": [
      "Compilation Failed"
     ]
    }
   ],
   "source": [
    "val num_parsers = \n",
    "Cons(char('0'), \n",
    "Cons(char('1'),\n",
    "Cons(char('2'), \n",
    "Cons(char('3'),\n",
    "Cons(char('4'), \n",
    "Cons(char('5'),\n",
    "Cons(char('6'), \n",
    "Cons(char('7'),\n",
    "Cons(char('8'), \n",
    "Cons(char('9'), Empty ))))))))))\n",
    "\n",
    "val pdigits = fold(choose, Empty, num_parsers)"
   ]
  },
  {
   "cell_type": "code",
   "execution_count": null,
   "metadata": {},
   "outputs": [],
   "source": [
    "assert(pdigits(string_to_list(\"4\")) == Cons(('4', Empty),Empty))\n",
    "assert(pdigits(string_to_list(\"9sd\")) == Cons(('9', Cons('s', Cons('d', Empty))),Empty))\n",
    "assert(pdigits(string_to_list(\"214\")) == Cons(('2', Cons('1', Cons('4', Empty))),Empty))\n",
    "assert(pdigits(string_to_list(\"d\")) == Empty)\n",
    "assert(pdigits(string_to_list(\"d3443\")) == Empty)"
   ]
  },
  {
   "cell_type": "markdown",
   "metadata": {},
   "source": [
    "### 3\n",
    "Write 4 parsers which do the following when given the string `\"abcd\"`\n",
    "1. One that fails to parse\n",
    "2. One that produces a single successful parse\n",
    "3. One that produces 3 successful parses (it's ok if they're the same as long as there are 3 results in the list)\n",
    "4. One that produces 32 results (think about how to do this efficiently)"
   ]
  },
  {
   "cell_type": "code",
   "execution_count": 18,
   "metadata": {},
   "outputs": [
    {
     "data": {
      "text/plain": [
       "\u001b[36mx\u001b[39m: \u001b[32mList\u001b[39m[\u001b[32mChar\u001b[39m] = \u001b[33mCons\u001b[39m(\u001b[32m'a'\u001b[39m, \u001b[33mCons\u001b[39m(\u001b[32m'b'\u001b[39m, \u001b[33mCons\u001b[39m(\u001b[32m'c'\u001b[39m, \u001b[33mCons\u001b[39m(\u001b[32m'd'\u001b[39m, Empty))))\n",
       "\u001b[36mparser1\u001b[39m: \u001b[32mList\u001b[39m[\u001b[32mNothing\u001b[39m] => \u001b[32mList\u001b[39m[\u001b[32mTuple2\u001b[39m[\u001b[32mNothing\u001b[39m, \u001b[32mList\u001b[39m[\u001b[32mNothing\u001b[39m]]] = ammonite.$sess.cmd14$Helper$$Lambda$3518/0x0000000800eb5840@3db7c5\n",
       "\u001b[36mparser2\u001b[39m: \u001b[32mList\u001b[39m[\u001b[32mNothing\u001b[39m] => \u001b[32mList\u001b[39m[(\u001b[32mUnit\u001b[39m, \u001b[32mList\u001b[39m[\u001b[32mNothing\u001b[39m])] = ammonite.$sess.cmd15$Helper$$Lambda$3519/0x0000000800eb5040@3eb967a7\n",
       "\u001b[36mparser3\u001b[39m: \u001b[32mList\u001b[39m[\u001b[32mChar\u001b[39m] => \u001b[32mList\u001b[39m[(\u001b[32mChar\u001b[39m, \u001b[32mList\u001b[39m[\u001b[32mChar\u001b[39m])] = ammonite.$sess.cmd9$Helper$$Lambda$3413/0x0000000800e60040@74e36553\n",
       "\u001b[36mp1\u001b[39m: \u001b[32mList\u001b[39m[\u001b[32mChar\u001b[39m] => \u001b[32mList\u001b[39m[(\u001b[32mChar\u001b[39m, \u001b[32mList\u001b[39m[\u001b[32mChar\u001b[39m])] = ammonite.$sess.cmd9$Helper$$Lambda$3413/0x0000000800e60040@3e514af5\n",
       "\u001b[36mp2\u001b[39m: \u001b[32mList\u001b[39m[\u001b[32mChar\u001b[39m] => \u001b[32mList\u001b[39m[(\u001b[32mChar\u001b[39m, \u001b[32mList\u001b[39m[\u001b[32mChar\u001b[39m])] = ammonite.$sess.cmd9$Helper$$Lambda$3413/0x0000000800e60040@706b42a6\n",
       "\u001b[36mp3\u001b[39m: \u001b[32mList\u001b[39m[\u001b[32mChar\u001b[39m] => \u001b[32mList\u001b[39m[(\u001b[32mChar\u001b[39m, \u001b[32mList\u001b[39m[\u001b[32mChar\u001b[39m])] = ammonite.$sess.cmd9$Helper$$Lambda$3413/0x0000000800e60040@313aa109\n",
       "\u001b[36mp4\u001b[39m: \u001b[32mList\u001b[39m[\u001b[32mChar\u001b[39m] => \u001b[32mList\u001b[39m[(\u001b[32mChar\u001b[39m, \u001b[32mList\u001b[39m[\u001b[32mChar\u001b[39m])] = ammonite.$sess.cmd9$Helper$$Lambda$3413/0x0000000800e60040@10b11e00\n",
       "\u001b[36mparser4\u001b[39m: \u001b[32mList\u001b[39m[\u001b[32mChar\u001b[39m] => \u001b[32mList\u001b[39m[(\u001b[32mChar\u001b[39m, \u001b[32mList\u001b[39m[\u001b[32mChar\u001b[39m])] = ammonite.$sess.cmd9$Helper$$Lambda$3413/0x0000000800e60040@4b1178a2"
      ]
     },
     "execution_count": 18,
     "metadata": {},
     "output_type": "execute_result"
    }
   ],
   "source": [
    "val x = string_to_list(\"abcd\")\n",
    "\n",
    "val parser1 = failure()\n",
    "val parser2 = success()\n",
    "val parser3 = choose(char('a'), choose(char('b'), char('c')))\n",
    "\n",
    "val p1 = choose(char('a'), char('a'))\n",
    "val p2 = choose(p1,p1)\n",
    "val p3 = choose(p2,p2)\n",
    "val p4 = choose(p3,p3)\n",
    "\n",
    "val parser4 = choose(p4, p4)"
   ]
  },
  {
   "cell_type": "code",
   "execution_count": 18,
   "metadata": {},
   "outputs": [
    {
     "name": "stderr",
     "output_type": "stream",
     "text": [
      "cmd18.sc:1: type mismatch;\n",
      " found   : ammonite.$sess.cmd17.wrapper.rec8stdlib.List[Char]\n",
      " required: ammonite.$sess.cmd2.wrapper.rec8stdlib.List[Nothing]\n",
      "val res18_0 = assert(length(parser1(x)) == Zero)\n",
      "                                    ^cmd18.sc:2: type mismatch;\n",
      " found   : ammonite.$sess.cmd17.wrapper.rec8stdlib.List[Char]\n",
      " required: ammonite.$sess.cmd2.wrapper.rec8stdlib.List[Nothing]\n",
      "val res18_1 = assert(length(parser2(x)) == one)\n",
      "                                    ^Compilation Failed"
     ]
    },
    {
     "ename": "",
     "evalue": "",
     "output_type": "error",
     "traceback": [
      "Compilation Failed"
     ]
    }
   ],
   "source": [
    "assert(length(parser1(x)) == Zero)\n",
    "assert(length(parser2(x)) == one)\n",
    "assert(length(parser3(x)) == three)\n",
    "assert(length(parser4(x)) == nat_pow(five, two))"
   ]
  },
  {
   "cell_type": "code",
   "execution_count": null,
   "metadata": {},
   "outputs": [],
   "source": []
  }
 ],
 "metadata": {
  "kernelspec": {
   "display_name": "Scala",
   "language": "scala",
   "name": "scala"
  },
  "language_info": {
   "codemirror_mode": "text/x-scala",
   "file_extension": ".scala",
   "mimetype": "text/x-scala",
   "name": "scala",
   "nbconvert_exporter": "script",
   "version": "2.12.8"
  }
 },
 "nbformat": 4,
 "nbformat_minor": 2
}
