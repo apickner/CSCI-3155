{
 "cells": [
  {
   "cell_type": "code",
   "execution_count": 1,
   "metadata": {},
   "outputs": [
    {
     "data": {
      "text/plain": [
       "\u001b[32mimport \u001b[39m\u001b[36m$file.$        \n",
       "\u001b[39m\n",
       "\u001b[32mimport \u001b[39m\u001b[36mhw3stdlib._\u001b[39m"
      ]
     },
     "execution_count": 1,
     "metadata": {},
     "output_type": "execute_result"
    }
   ],
   "source": [
    "import $file.hw3stdlib\n",
    "import hw3stdlib._"
   ]
  },
  {
   "cell_type": "markdown",
   "metadata": {},
   "source": [
    "# Recitation: Week 3\n",
    "\n",
    "## Topics\n",
    "\n",
    "* Folds\n",
    "* Currying and partial application\n",
    "\n",
    "## Folding\n",
    "\n",
    "Implement the fold function you've seen in class using recursion in Scala:\n",
    "\n",
    "$$\n",
    "\\begin{align}\n",
    "fold : ((A, B) \\rightarrow B,\\ B,\\ List[A]) \\rightarrow B\n",
    "\\end{align}\n",
    "$$\n",
    "a\n",
    "Remember, the first parameter is the function that accumulates, the second is the initial accumulator value, and the last is the list to accumulate over."
   ]
  },
  {
   "cell_type": "code",
   "execution_count": 2,
   "metadata": {},
   "outputs": [
    {
     "data": {
      "text/plain": [
       "defined \u001b[32mfunction\u001b[39m \u001b[36mfold\u001b[39m"
      ]
     },
     "execution_count": 2,
     "metadata": {},
     "output_type": "execute_result"
    }
   ],
   "source": [
    "def fold[A, B](f: (A, B) => B, acc: B, l: List[A]) : B = {\n",
    "    l match {\n",
    "        case Empty       => acc\n",
    "        case Cons(x, xs) => fold(f, f(x, acc), xs)\n",
    "    }\n",
    "}"
   ]
  },
  {
   "cell_type": "markdown",
   "metadata": {},
   "source": [
    "Next, use the fold function you just implemented to solve the `sum` and `prod` functions. As a reminder `sum` should take a list of natural numbers and return their sum. `prod` should multiply the list instead. Here are their types:\n",
    "\n",
    "$$\n",
    "sum : \\text{List}\\ \\mathbb{N} \\rightarrow \\mathbb{N} \\\\\n",
    "prod : \\text{List}\\ \\mathbb{N} \\rightarrow \\mathbb{N}\n",
    "$$"
   ]
  },
  {
   "cell_type": "code",
   "execution_count": 3,
   "metadata": {},
   "outputs": [
    {
     "data": {
      "text/plain": [
       "defined \u001b[32mfunction\u001b[39m \u001b[36msum\u001b[39m\n",
       "defined \u001b[32mfunction\u001b[39m \u001b[36mprod\u001b[39m"
      ]
     },
     "execution_count": 3,
     "metadata": {},
     "output_type": "execute_result"
    }
   ],
   "source": [
    "def sum(xs : List[Nat]) : Nat = {\n",
    "    fold(plus, Zero, xs)\n",
    "}\n",
    "\n",
    "def prod(xs : List[Nat]) : Nat = {\n",
    "    fold(mult, one, xs)\n",
    "}"
   ]
  },
  {
   "cell_type": "code",
   "execution_count": 5,
   "metadata": {},
   "outputs": [
    {
     "name": "stdout",
     "output_type": "stream",
     "text": [
      "\n",
      "*** Tests Passed (100 points) ***\n"
     ]
    },
    {
     "data": {
      "text/plain": [
       "\u001b[36mfourteen\u001b[39m: \u001b[32mSucc\u001b[39m = \u001b[33mSucc\u001b[39m(\n",
       "  \u001b[33mSucc\u001b[39m(\n",
       "    \u001b[33mSucc\u001b[39m(\u001b[33mSucc\u001b[39m(\u001b[33mSucc\u001b[39m(\u001b[33mSucc\u001b[39m(\u001b[33mSucc\u001b[39m(\u001b[33mSucc\u001b[39m(\u001b[33mSucc\u001b[39m(\u001b[33mSucc\u001b[39m(\u001b[33mSucc\u001b[39m(\u001b[33mSucc\u001b[39m(\u001b[33mSucc\u001b[39m(\u001b[33mSucc\u001b[39m(Zero))))))))))))\n",
       "  )\n",
       ")"
      ]
     },
     "execution_count": 5,
     "metadata": {},
     "output_type": "execute_result"
    }
   ],
   "source": [
    "assert(sum(Cons(one, Empty)) == one, 1)\n",
    "assert(sum(Cons(one, Cons(seven, Cons(two, Empty)))) == ten, 2)\n",
    "assert(prod(Cons(one, Empty)) == one, 3)\n",
    "val fourteen = Succ(Succ(Succ(Succ(ten))))\n",
    "assert(prod(Cons(one, Cons(seven, Cons(two, Empty)))) == fourteen, 4)\n",
    "passed(100)"
   ]
  },
  {
   "cell_type": "code",
   "execution_count": null,
   "metadata": {},
   "outputs": [],
   "source": [
    "def eq_nat(x: Nat, y: Nat) : Bool = {\n",
    "    (x, y) match {\n",
    "        case (Zero, Zero)       => True\n",
    "        case (Succ(x), Succ(y)) => eq_nat(x, y)\n",
    "        case(_, _)              => False\n",
    "    }\n",
    "}\n",
    "\n",
    "def in(n: Nat, l: List[Nat]) : Bool = {\n",
    "    fold(and, True, map(eq_nat(_, n), l))\n",
    "}"
   ]
  },
  {
   "cell_type": "markdown",
   "metadata": {},
   "source": [
    "## Lambdas\n",
    "\n",
    "Rewrite the following using lambda abstractions"
   ]
  },
  {
   "cell_type": "code",
   "execution_count": null,
   "metadata": {},
   "outputs": [],
   "source": [
    "val l = Cons(five, Cons(three, Cons(Zero, Empty)))\n",
    "\n",
    "def add5(x: Nat): Nat = plus(x, five)\n",
    "val ANS1 = map(add5, l)\n",
    "\n",
    "def non_zero(x: Nat): Bool = x match {\n",
    "    case Zero => False\n",
    "    case _ => True\n",
    "}\n",
    "val ANS2 = map(non_zero, l)\n",
    "\n",
    "def sum_and_add3(x: Nat, y: Nat): Nat = plus(plus(three, x), y)\n",
    "val ANS3 = fold(sum_and_add3, Zero, l)"
   ]
  },
  {
   "cell_type": "code",
   "execution_count": null,
   "metadata": {},
   "outputs": [],
   "source": [
    "val ANS1 = map(x => plus(x, five), l)\n",
    "\n",
    "val ANS2 = map(\n",
    "    (x: Nat) => x match {\n",
    "        case Zero => False\n",
    "        case _ => True\n",
    "    }, l\n",
    ")\n",
    "\n",
    "val ANS3 = ???"
   ]
  },
  {
   "cell_type": "code",
   "execution_count": null,
   "metadata": {},
   "outputs": [],
   "source": [
    "assert(ANS1 == Cons(ten, Cons(eight, Cons(five, Empty))))\n",
    "assert(ANS2 == Cons(True, Cons(True, Cons(False, Empty))))\n",
    "assert(ANS3 == Succ(Succ(Succ(Succ(Succ(Succ(Succ(Succ(Succ(Succ(Succ(Succ(Succ(Succ(Succ(Succ(Succ(Zero))))))))))))))))))"
   ]
  },
  {
   "cell_type": "markdown",
   "metadata": {},
   "source": [
    "## Partial Application\n",
    "Rewrite the calls above to use partial application where possible."
   ]
  },
  {
   "cell_type": "code",
   "execution_count": null,
   "metadata": {},
   "outputs": [],
   "source": [
    "// ANS1\n",
    "def plus5_pa(x: Nat) = plus(five,_)\n",
    "\n",
    "// ANS2\n",
    "???\n",
    "\n",
    "// ANS3\n",
    "???"
   ]
  },
  {
   "cell_type": "code",
   "execution_count": null,
   "metadata": {},
   "outputs": [],
   "source": [
    "assert(ANS1 == Cons(ten, Cons(eight, Cons(five, Empty))))"
   ]
  },
  {
   "cell_type": "markdown",
   "metadata": {},
   "source": [
    "## Curry the following functions\n",
    "Do it both manually, and using Scala's built in currying method."
   ]
  },
  {
   "cell_type": "code",
   "execution_count": null,
   "metadata": {},
   "outputs": [],
   "source": [
    "def f1(x: Nat, y: Bool, z: List[Nat]): Nat = three\n",
    "// ( Nat, Bool, List[Nat]) => Nat\n",
    "// Nat => Bool => List[Nat] => Nat\n",
    "def f2(x: Nat, y: Bool => List[Nat]): Nat = eight"
   ]
  },
  {
   "cell_type": "code",
   "execution_count": null,
   "metadata": {},
   "outputs": [],
   "source": [
    "def f1_manual_curry(x: Nat): Bool => List[Nat] => Nat =\n",
    "    (b: Bool) => {\n",
    "        (l: List[Nat]) => three\n",
    "    }\n",
    "\n",
    "def f1_scala_curry(x: Nat)(y: Bool)(z: List[Nat]): Nat = three\n",
    "\n",
    "\n",
    "// f2_manual_curry\n",
    "def f2_manual_curry(x: Nat) : Bool => List[Nat] => Nat = \n",
    "    (f: Bool => List[Nat]) => eight\n",
    "\n",
    "// f2_scala_curry\n",
    "def f2_scala_curry(x: Nat)(f: Bool => List[Nat]) : Nat =\n",
    "    eight\n"
   ]
  },
  {
   "cell_type": "code",
   "execution_count": null,
   "metadata": {},
   "outputs": [],
   "source": [
    "assert(f1(three, True, Empty) == f1_manual_curry(three)(True)(Cons(four, Empty)))\n",
    "assert(f1(three, True, Empty) == f1_scala_curry(three)(True)(Cons(four, Empty)))\n",
    "assert(f2(three, g => Empty) == f2_manual_curry(three)(g => Empty))\n",
    "assert(f2(three, g => Empty) == f2_scala_curry(three)(g => Empty))"
   ]
  },
  {
   "cell_type": "code",
   "execution_count": null,
   "metadata": {},
   "outputs": [],
   "source": []
  }
 ],
 "metadata": {
  "kernelspec": {
   "display_name": "Scala",
   "language": "scala",
   "name": "scala"
  },
  "language_info": {
   "codemirror_mode": "text/x-scala",
   "file_extension": ".scala",
   "mimetype": "text/x-scala",
   "name": "scala",
   "nbconvert_exporter": "script",
   "version": "2.12.8"
  }
 },
 "nbformat": 4,
 "nbformat_minor": 2
}
