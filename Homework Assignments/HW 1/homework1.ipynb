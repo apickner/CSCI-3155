{
 "cells": [
  {
   "cell_type": "markdown",
   "metadata": {},
   "source": [
    "# Homework 1\n",
    "\n"
   ]
  },
  {
   "cell_type": "code",
   "execution_count": 23,
   "metadata": {},
   "outputs": [
    {
     "data": {
      "text/plain": [
       "defined \u001b[32mtrait\u001b[39m \u001b[36mNat\u001b[39m\n",
       "defined \u001b[32mobject\u001b[39m \u001b[36mZero\u001b[39m\n",
       "defined \u001b[32mclass\u001b[39m \u001b[36mSucc\u001b[39m\n",
       "\u001b[36mzero\u001b[39m: \u001b[32mZero\u001b[39m.type = Zero\n",
       "\u001b[36mone\u001b[39m: \u001b[32mSucc\u001b[39m = \u001b[33mSucc\u001b[39m(Zero)\n",
       "\u001b[36mtwo\u001b[39m: \u001b[32mSucc\u001b[39m = \u001b[33mSucc\u001b[39m(\u001b[33mSucc\u001b[39m(Zero))\n",
       "\u001b[36mthree\u001b[39m: \u001b[32mSucc\u001b[39m = \u001b[33mSucc\u001b[39m(\u001b[33mSucc\u001b[39m(\u001b[33mSucc\u001b[39m(Zero)))\n",
       "\u001b[36mfour\u001b[39m: \u001b[32mSucc\u001b[39m = \u001b[33mSucc\u001b[39m(\u001b[33mSucc\u001b[39m(\u001b[33mSucc\u001b[39m(\u001b[33mSucc\u001b[39m(Zero))))\n",
       "\u001b[36mfive\u001b[39m: \u001b[32mSucc\u001b[39m = \u001b[33mSucc\u001b[39m(\u001b[33mSucc\u001b[39m(\u001b[33mSucc\u001b[39m(\u001b[33mSucc\u001b[39m(\u001b[33mSucc\u001b[39m(Zero)))))\n",
       "\u001b[36msix\u001b[39m: \u001b[32mSucc\u001b[39m = \u001b[33mSucc\u001b[39m(\u001b[33mSucc\u001b[39m(\u001b[33mSucc\u001b[39m(\u001b[33mSucc\u001b[39m(\u001b[33mSucc\u001b[39m(\u001b[33mSucc\u001b[39m(Zero))))))\n",
       "defined \u001b[32mfunction\u001b[39m \u001b[36mplus\u001b[39m"
      ]
     },
     "execution_count": 23,
     "metadata": {},
     "output_type": "execute_result"
    }
   ],
   "source": [
    "sealed trait Nat\n",
    "case object Zero extends Nat\n",
    "case class Succ(pred : Nat) extends Nat\n",
    "\n",
    "val zero = Zero\n",
    "val one = Succ(Zero)\n",
    "val two = Succ(one)\n",
    "val three = Succ(two)\n",
    "val four = Succ(three)\n",
    "val five = Succ(four)\n",
    "val six = Succ(five)\n",
    "\n",
    "def plus(x : Nat, y : Nat) : Nat = x match {\n",
    "    case Zero    => y\n",
    "    case Succ(x) => Succ(plus(x, y))\n",
    "}"
   ]
  },
  {
   "cell_type": "markdown",
   "metadata": {},
   "source": [
    "The following code is a function to pretty-print natural numbers. Feel\n",
    "free to use these to test your implementations.\n",
    "There is a similiar function for lists defined below. Please ignore the \n",
    "helper functions. They use some tricks to make it easy to implement this\n",
    "functionality. How they work will be explained at a later point."
   ]
  },
  {
   "cell_type": "code",
   "execution_count": 24,
   "metadata": {},
   "outputs": [
    {
     "data": {
      "text/plain": [
       "defined \u001b[32mfunction\u001b[39m \u001b[36mnat_to_int\u001b[39m\n",
       "defined \u001b[32mfunction\u001b[39m \u001b[36mprint_nat\u001b[39m\n",
       "\u001b[36mres23_2\u001b[39m: \u001b[32mString\u001b[39m = \u001b[32m\"4\"\u001b[39m"
      ]
     },
     "execution_count": 24,
     "metadata": {},
     "output_type": "execute_result"
    }
   ],
   "source": [
    "def nat_to_int(x : Nat) : Int = x match {\n",
    "    case Zero => 0\n",
    "    case Succ( x ) => 1 + nat_to_int(x)\n",
    "}\n",
    "\n",
    "def print_nat(x : Nat) : String = nat_to_int(x).toString\n",
    "\n",
    "print_nat(four)"
   ]
  },
  {
   "cell_type": "code",
   "execution_count": 25,
   "metadata": {},
   "outputs": [
    {
     "data": {
      "text/plain": [
       "\u001b[36mres24_0\u001b[39m: \u001b[32mString\u001b[39m = \u001b[32m\"4\"\u001b[39m\n",
       "\u001b[36mres24_1\u001b[39m: \u001b[32mString\u001b[39m = \u001b[32m\"9\"\u001b[39m\n",
       "\u001b[36mres24_2\u001b[39m: \u001b[32mString\u001b[39m = \u001b[32m\"10\"\u001b[39m"
      ]
     },
     "execution_count": 25,
     "metadata": {},
     "output_type": "execute_result"
    }
   ],
   "source": [
    "print_nat(plus(zero, four)) // Should be 4\n",
    "print_nat(plus(five, four)) // Should be 9\n",
    "print_nat(plus(five, five)) // Should be 10"
   ]
  },
  {
   "cell_type": "markdown",
   "metadata": {},
   "source": [
    "## Natural Numbers\n",
    "\n",
    "Write some functions on natural numbers. For better visualization you can use the print_nat function provided above to see these numbers in the base-10 system.\n",
    "\n",
    "## Problem 1: Multiplication\n",
    "\n",
    "Given the definition of plus above, write the multiplication function"
   ]
  },
  {
   "cell_type": "code",
   "execution_count": 26,
   "metadata": {},
   "outputs": [
    {
     "data": {
      "text/plain": [
       "defined \u001b[32mfunction\u001b[39m \u001b[36mmult\u001b[39m"
      ]
     },
     "execution_count": 26,
     "metadata": {},
     "output_type": "execute_result"
    }
   ],
   "source": [
    "def mult(x: Nat, y: Nat) : Nat = {\n",
    "    // helper function to recursively loop 'x' times\n",
    "    def mult_helper(i: Nat, sum: Nat) : Nat = {\n",
    "        i match {\n",
    "            case Zero => sum\n",
    "            case Succ(p) => mult_helper(p,plus(sum,x))\n",
    "        }\n",
    "    }\n",
    "    mult_helper(y,Zero) // this is because we want our 'sum' to be initialized to 0, and then we add 'y' to 'sum' 'x' times\n",
    "}"
   ]
  },
  {
   "cell_type": "code",
   "execution_count": 27,
   "metadata": {},
   "outputs": [
    {
     "data": {
      "text/plain": [
       "\u001b[36mres26_0\u001b[39m: \u001b[32mString\u001b[39m = \u001b[32m\"0\"\u001b[39m\n",
       "\u001b[36mres26_1\u001b[39m: \u001b[32mString\u001b[39m = \u001b[32m\"0\"\u001b[39m\n",
       "\u001b[36mres26_2\u001b[39m: \u001b[32mString\u001b[39m = \u001b[32m\"16\"\u001b[39m\n",
       "\u001b[36mres26_3\u001b[39m: \u001b[32mString\u001b[39m = \u001b[32m\"20\"\u001b[39m\n",
       "\u001b[36mres26_4\u001b[39m: \u001b[32mString\u001b[39m = \u001b[32m\"20\"\u001b[39m\n",
       "\u001b[36mres26_5\u001b[39m: \u001b[32mString\u001b[39m = \u001b[32m\"25\"\u001b[39m"
      ]
     },
     "execution_count": 27,
     "metadata": {},
     "output_type": "execute_result"
    }
   ],
   "source": [
    "print_nat(mult(zero, four)) // Should be 0\n",
    "print_nat(mult(four, zero)) // Should be 0\n",
    "print_nat(mult(four, four)) // Should be 16\n",
    "print_nat(mult(five, four)) // Should be 20\n",
    "print_nat(mult(four, five)) // Should be 20\n",
    "print_nat(mult(five, five)) // Should be 25"
   ]
  },
  {
   "cell_type": "markdown",
   "metadata": {},
   "source": [
    "In this first homework we will work more on writing datatypes and functions over them\n",
    "\n",
    "## Lists\n",
    "\n",
    "Here is the definition of lists of numbers that was given in class:\n",
    "\n",
    "$$\n",
    "\\begin{align}\n",
    "\\text{List}\\ :=&\\ \\text{Empty}\\\\\n",
    "\\mid&\\ \\text{Cons}\\ \\mathbb{N}\\ \\text{List}\n",
    "\\end{align}\n",
    "$$\n",
    "\n",
    "## Problem 2: Defining List\n",
    "\n",
    "Define lists in Scala.  If you need help, try looking at the notebook from the recitation"
   ]
  },
  {
   "cell_type": "code",
   "execution_count": 28,
   "metadata": {},
   "outputs": [
    {
     "data": {
      "text/plain": [
       "defined \u001b[32mtrait\u001b[39m \u001b[36mList\u001b[39m\n",
       "defined \u001b[32mobject\u001b[39m \u001b[36mEmpty\u001b[39m\n",
       "defined \u001b[32mclass\u001b[39m \u001b[36mCons\u001b[39m"
      ]
     },
     "execution_count": 28,
     "metadata": {},
     "output_type": "execute_result"
    }
   ],
   "source": [
    "sealed trait List\n",
    "case object Empty extends List\n",
    "case class Cons(n: Nat, l: List) extends List"
   ]
  },
  {
   "cell_type": "markdown",
   "metadata": {},
   "source": [
    "If you've defined this correctly, the following examples should compile and pretty-print"
   ]
  },
  {
   "cell_type": "code",
   "execution_count": 29,
   "metadata": {},
   "outputs": [
    {
     "data": {
      "text/plain": [
       "defined \u001b[32mfunction\u001b[39m \u001b[36mex1\u001b[39m\n",
       "defined \u001b[32mfunction\u001b[39m \u001b[36mex2\u001b[39m\n",
       "defined \u001b[32mfunction\u001b[39m \u001b[36mex3\u001b[39m"
      ]
     },
     "execution_count": 29,
     "metadata": {},
     "output_type": "execute_result"
    }
   ],
   "source": [
    "def ex1 = Cons(one, Cons(two, Cons(three, Cons(four, Cons(five, Empty)))))\n",
    "def ex2 = Cons(one, Empty)\n",
    "def ex3 = Empty"
   ]
  },
  {
   "cell_type": "markdown",
   "metadata": {},
   "source": [
    "### List Prettyprinting\n",
    "\n",
    "Here is a pretty printer for lists. You should be able to make sense of what it is doing. Feel free to use it going forward."
   ]
  },
  {
   "cell_type": "code",
   "execution_count": 30,
   "metadata": {},
   "outputs": [
    {
     "data": {
      "text/plain": [
       "defined \u001b[32mfunction\u001b[39m \u001b[36mprint_list_helper\u001b[39m\n",
       "defined \u001b[32mfunction\u001b[39m \u001b[36mprint_list\u001b[39m"
      ]
     },
     "execution_count": 30,
     "metadata": {},
     "output_type": "execute_result"
    }
   ],
   "source": [
    "def print_list_helper(xs : List) : String = xs match {\n",
    "    case Empty => \"\"\n",
    "    case Cons(x, Empty) => print_nat(x)\n",
    "    case Cons(x, xs) => print_nat(x) + \", \" + print_list_helper(xs)\n",
    "}\n",
    "\n",
    "def print_list(xs : List) : String = \"[\" + print_list_helper(xs) + \"]\""
   ]
  },
  {
   "cell_type": "markdown",
   "metadata": {},
   "source": [
    "If you defined the list datatype correctly, the following cell should print each list in a more human-readable way."
   ]
  },
  {
   "cell_type": "code",
   "execution_count": 31,
   "metadata": {},
   "outputs": [
    {
     "data": {
      "text/plain": [
       "\u001b[36mres30_0\u001b[39m: \u001b[32mString\u001b[39m = \u001b[32m\"[1, 2, 3, 4, 5]\"\u001b[39m\n",
       "\u001b[36mres30_1\u001b[39m: \u001b[32mString\u001b[39m = \u001b[32m\"[1]\"\u001b[39m\n",
       "\u001b[36mres30_2\u001b[39m: \u001b[32mString\u001b[39m = \u001b[32m\"[]\"\u001b[39m"
      ]
     },
     "execution_count": 31,
     "metadata": {},
     "output_type": "execute_result"
    }
   ],
   "source": [
    "print_list(ex1)\n",
    "print_list(ex2)\n",
    "print_list(ex3)"
   ]
  },
  {
   "cell_type": "markdown",
   "metadata": {},
   "source": [
    "## Problem 3: Length\n",
    "\n",
    "Write the length function for lists. This function should take in a List and return its length as a Nat."
   ]
  },
  {
   "cell_type": "code",
   "execution_count": 32,
   "metadata": {
    "scrolled": true
   },
   "outputs": [
    {
     "data": {
      "text/plain": [
       "defined \u001b[32mfunction\u001b[39m \u001b[36mlength\u001b[39m"
      ]
     },
     "execution_count": 32,
     "metadata": {},
     "output_type": "execute_result"
    }
   ],
   "source": [
    "def length(l: List) : Nat = {\n",
    "    // this is my helper function\n",
    "    def len_helper(l: List, len: Nat) : Nat = {\n",
    "        l match {\n",
    "            // if the list is empty, return Zero because the list has no elements\n",
    "            case Empty => Zero\n",
    "            // if the list is a single element, return 1 \n",
    "            case Cons(x, Empty) => plus(len, Succ(Zero))\n",
    "            // if the list is more than 1 element, we return the same function \n",
    "            // with new list minus the first element, and new length + 1 (using our plus function)\n",
    "            case Cons(x, xs) => len_helper(xs,plus(len,Succ(Zero)))\n",
    "        }\n",
    "    }\n",
    "    len_helper(l,Zero)\n",
    "}"
   ]
  },
  {
   "cell_type": "code",
   "execution_count": 33,
   "metadata": {},
   "outputs": [
    {
     "data": {
      "text/plain": [
       "\u001b[36mres32_0\u001b[39m: \u001b[32mString\u001b[39m = \u001b[32m\"0\"\u001b[39m\n",
       "\u001b[36mres32_1\u001b[39m: \u001b[32mString\u001b[39m = \u001b[32m\"5\"\u001b[39m\n",
       "\u001b[36mres32_2\u001b[39m: \u001b[32mString\u001b[39m = \u001b[32m\"1\"\u001b[39m\n",
       "\u001b[36mres32_3\u001b[39m: \u001b[32mString\u001b[39m = \u001b[32m\"0\"\u001b[39m"
      ]
     },
     "execution_count": 33,
     "metadata": {},
     "output_type": "execute_result"
    }
   ],
   "source": [
    "print_nat(length(Empty)) // Should be 0\n",
    "print_nat(length(ex1)) // Should be 5\n",
    "print_nat(length(ex2)) // Should be 1\n",
    "print_nat(length(ex3)) // Should be 0"
   ]
  },
  {
   "cell_type": "markdown",
   "metadata": {},
   "source": [
    "## Problem 4: Init\n",
    "\n",
    "Write a function that removes the last element in the list"
   ]
  },
  {
   "cell_type": "code",
   "execution_count": 34,
   "metadata": {},
   "outputs": [
    {
     "data": {
      "text/plain": [
       "defined \u001b[32mfunction\u001b[39m \u001b[36minit\u001b[39m"
      ]
     },
     "execution_count": 34,
     "metadata": {},
     "output_type": "execute_result"
    }
   ],
   "source": [
    "def init(l: List) : List = {\n",
    "    val l2: List = Empty\n",
    "    // this is my helper function\n",
    "    def init_helper(l1: List, l2: List) : List = {\n",
    "        l1 match {\n",
    "            // if the list is empty, we can return the empty list\n",
    "            case Empty         => Empty\n",
    "            // if the list is a single element, we can return an empty list\n",
    "            case Cons(x,Empty) => Empty\n",
    "            // else we have a list with more than one element, we return the Cons of the current element\n",
    "            // in the list of our iterator function. This is so our list is not reversed.\n",
    "            case Cons(x,xs)    => Cons(x,init_helper(xs,l2))\n",
    "        }\n",
    "    }\n",
    "    init_helper(l,l2)\n",
    "}"
   ]
  },
  {
   "cell_type": "code",
   "execution_count": 35,
   "metadata": {},
   "outputs": [
    {
     "data": {
      "text/plain": [
       "\u001b[36mres34_0\u001b[39m: \u001b[32mString\u001b[39m = \u001b[32m\"[1, 2, 3, 4]\"\u001b[39m\n",
       "\u001b[36mres34_1\u001b[39m: \u001b[32mString\u001b[39m = \u001b[32m\"[]\"\u001b[39m"
      ]
     },
     "execution_count": 35,
     "metadata": {},
     "output_type": "execute_result"
    }
   ],
   "source": [
    "print_list(init(ex1)) // should be [1, 2, 3, 4]\n",
    "print_list(init(ex2)) // should be [ ]"
   ]
  },
  {
   "cell_type": "markdown",
   "metadata": {},
   "source": [
    "## Problem 5: Last\n",
    "\n",
    "define the function which returns a singleton list containing the last element of a list.\n",
    "\n",
    "Some Examples:\n",
    "\n",
    "* \\[ 1, 2, 3, 4 \\] -> \\[ 4 \\]\n",
    "* \\[ \\] -> \\[ \\]\n",
    "* \\[ 1 \\] -> \\[ 1 \\]"
   ]
  },
  {
   "cell_type": "code",
   "execution_count": 36,
   "metadata": {},
   "outputs": [
    {
     "data": {
      "text/plain": [
       "defined \u001b[32mfunction\u001b[39m \u001b[36mlast\u001b[39m"
      ]
     },
     "execution_count": 36,
     "metadata": {},
     "output_type": "execute_result"
    }
   ],
   "source": [
    "def last(l: List) : List = {\n",
    "    // this is my helper function\n",
    "    def last_helper(l: List) : List = {\n",
    "        l match {\n",
    "            case Empty         => Empty\n",
    "            case Cons(x,Empty) => Cons(x,Empty)\n",
    "            case Cons(x,xs)    => last_helper(xs)\n",
    "        }\n",
    "    }\n",
    "    last_helper(l)\n",
    "}"
   ]
  },
  {
   "cell_type": "code",
   "execution_count": 37,
   "metadata": {},
   "outputs": [
    {
     "data": {
      "text/plain": [
       "\u001b[36mres36_0\u001b[39m: \u001b[32mString\u001b[39m = \u001b[32m\"[5]\"\u001b[39m\n",
       "\u001b[36mres36_1\u001b[39m: \u001b[32mString\u001b[39m = \u001b[32m\"[1]\"\u001b[39m\n",
       "\u001b[36mres36_2\u001b[39m: \u001b[32mString\u001b[39m = \u001b[32m\"[]\"\u001b[39m"
      ]
     },
     "execution_count": 37,
     "metadata": {},
     "output_type": "execute_result"
    }
   ],
   "source": [
    "print_list(last(ex1)) // should be 5\n",
    "print_list(last(ex2)) // should be 1\n",
    "print_list(last(ex3)) // should be empty"
   ]
  },
  {
   "cell_type": "markdown",
   "metadata": {},
   "source": [
    "## Bonus Problem: Append two lists\n",
    "\n",
    "Hint: You might want to use init and last to do this"
   ]
  },
  {
   "cell_type": "code",
   "execution_count": 39,
   "metadata": {},
   "outputs": [
    {
     "data": {
      "text/plain": [
       "defined \u001b[32mfunction\u001b[39m \u001b[36mappend\u001b[39m"
      ]
     },
     "execution_count": 39,
     "metadata": {},
     "output_type": "execute_result"
    }
   ],
   "source": [
    "def append(l: List, r: List) : List = {\n",
    "    // this is my helper function\n",
    "    def append_helper(l: List, r: List) : List = {\n",
    "        l match {\n",
    "            // if left is empty, we can just return right\n",
    "            case Empty          => r\n",
    "            // if the left is a singleton element, we can return Cons of that element and the right side\n",
    "            case Cons(x, Empty) => Cons(x, r)\n",
    "            // if the left is more than one element, we return the iterator, with the new left list as the init \n",
    "            // function we wrote above, and the new right list is us appending the last element of the left list\n",
    "            // with the current right list\n",
    "            case Cons(x,xs)     => append_helper(init(l),append(last(l),r))\n",
    "        }\n",
    "    }\n",
    "    append_helper(l,r)\n",
    "}"
   ]
  },
  {
   "cell_type": "code",
   "execution_count": 42,
   "metadata": {},
   "outputs": [
    {
     "data": {
      "text/plain": [
       "defined \u001b[32mfunction\u001b[39m \u001b[36mtest1\u001b[39m\n",
       "defined \u001b[32mfunction\u001b[39m \u001b[36mtest2\u001b[39m\n",
       "\u001b[36mres41_2\u001b[39m: \u001b[32mString\u001b[39m = \u001b[32m\"[6, 5, 4]\"\u001b[39m\n",
       "\u001b[36mres41_3\u001b[39m: \u001b[32mString\u001b[39m = \u001b[32m\"[3, 2, 1]\"\u001b[39m"
      ]
     },
     "execution_count": 42,
     "metadata": {},
     "output_type": "execute_result"
    }
   ],
   "source": [
    "def test1 = Cons(six,Cons(five,Cons(four,Empty)))\n",
    "def test2 = Cons(three,Cons(two,Cons(one,Empty)))\n",
    "print_list(test1)\n",
    "print_list(test2)"
   ]
  },
  {
   "cell_type": "code",
   "execution_count": 43,
   "metadata": {},
   "outputs": [
    {
     "data": {
      "text/plain": [
       "\u001b[36mres42_0\u001b[39m: \u001b[32mString\u001b[39m = \u001b[32m\"[1, 2, 3, 4, 5, 6, 3, 0]\"\u001b[39m\n",
       "\u001b[36mres42_1\u001b[39m: \u001b[32mString\u001b[39m = \u001b[32m\"[6, 5, 4, 3, 2, 1]\"\u001b[39m"
      ]
     },
     "execution_count": 43,
     "metadata": {},
     "output_type": "execute_result"
    }
   ],
   "source": [
    "print_list(append(ex1, Cons(Succ(five), Cons(three, Cons(Zero, Empty))))) // should be [1, 2, 3, 4, 5, 6, 3, 0]\n",
    "print_list(append(test1, test2)) // should be [6, 5, 4, 3, 2, 1]"
   ]
  },
  {
   "cell_type": "code",
   "execution_count": null,
   "metadata": {},
   "outputs": [],
   "source": []
  }
 ],
 "metadata": {
  "kernelspec": {
   "display_name": "Scala",
   "language": "scala",
   "name": "scala"
  },
  "language_info": {
   "codemirror_mode": "text/x-scala",
   "file_extension": ".scala",
   "mimetype": "text/x-scala",
   "name": "scala",
   "nbconvert_exporter": "script",
   "version": "2.12.8"
  }
 },
 "nbformat": 4,
 "nbformat_minor": 2
}
